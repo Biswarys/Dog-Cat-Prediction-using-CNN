{
 "cells": [
  {
   "cell_type": "markdown",
   "id": "4ff6505f",
   "metadata": {},
   "source": [
    "# Dogs Vs Cats CNN\n",
    "\n",
    "This project aims to train a model to distinguish dogs and cats based on Convolutional Neural Network Methodology and then accurately identify a dog and cat if given an input dog/cat image"
   ]
  },
  {
   "cell_type": "markdown",
   "id": "76b75c30",
   "metadata": {},
   "source": [
    "Import the Libraries"
   ]
  },
  {
   "cell_type": "code",
   "execution_count": 2,
   "id": "190d2160",
   "metadata": {},
   "outputs": [],
   "source": [
    "import tensorflow as tf\n",
    "from keras.preprocessing.image import ImageDataGenerator"
   ]
  },
  {
   "cell_type": "code",
   "execution_count": 3,
   "id": "c0f73470",
   "metadata": {},
   "outputs": [
    {
     "data": {
      "text/plain": [
       "'2.10.0'"
      ]
     },
     "execution_count": 3,
     "metadata": {},
     "output_type": "execute_result"
    }
   ],
   "source": [
    "tf.__version__"
   ]
  },
  {
   "cell_type": "markdown",
   "id": "298fe67a",
   "metadata": {},
   "source": [
    "# Part 1 : Data Preprocessing"
   ]
  },
  {
   "cell_type": "markdown",
   "id": "8db7f66d",
   "metadata": {},
   "source": [
    "Preprocessing the Training Set"
   ]
  },
  {
   "cell_type": "code",
   "execution_count": 6,
   "id": "49fe0577",
   "metadata": {},
   "outputs": [
    {
     "name": "stdout",
     "output_type": "stream",
     "text": [
      "Found 8000 images belonging to 2 classes.\n"
     ]
    }
   ],
   "source": [
    "# This is required to avoid Overfitting\n",
    "\n",
    "train_datagen = ImageDataGenerator(\n",
    "        rescale = 1./255,\n",
    "        shear_range = 0.2,\n",
    "        zoom_range = 0.2,\n",
    "        horizontal_flip = True)\n",
    "\n",
    "#Connect train_datagen  to images of our training set\n",
    "\n",
    "train_generator = train_datagen.flow_from_directory(\n",
    "        'dataset/training_set',\n",
    "        target_size = (64, 64),\n",
    "        batch_size = 32,\n",
    "        class_mode = 'binary') #class mode can be binary or categorical. Here we have just binary mode i.e. either cat or dog"
   ]
  },
  {
   "cell_type": "markdown",
   "id": "d6e74308",
   "metadata": {},
   "source": [
    "Preprocessing the Test Set"
   ]
  },
  {
   "cell_type": "code",
   "execution_count": 7,
   "id": "18aaef09",
   "metadata": {},
   "outputs": [
    {
     "name": "stdout",
     "output_type": "stream",
     "text": [
      "Found 2000 images belonging to 2 classes.\n"
     ]
    }
   ],
   "source": [
    "# Test set just we need to rescale, nothing else. \n",
    "test_datagen = ImageDataGenerator(\n",
    "        rescale = 1./255 )\n",
    "\n",
    "validation_generator = train_datagen.flow_from_directory(\n",
    "        'dataset/test_set',\n",
    "        target_size = (64, 64),\n",
    "        batch_size = 32,\n",
    "        class_mode = 'binary')"
   ]
  },
  {
   "cell_type": "markdown",
   "id": "2e9c7458",
   "metadata": {},
   "source": [
    "# Part 2 : Building the CNN"
   ]
  },
  {
   "cell_type": "markdown",
   "id": "e6fb2877",
   "metadata": {},
   "source": [
    "## Initialise the CNN"
   ]
  },
  {
   "cell_type": "code",
   "execution_count": 8,
   "id": "99ea5122",
   "metadata": {},
   "outputs": [],
   "source": [
    "cnn = tf.keras.models.Sequential()"
   ]
  },
  {
   "cell_type": "markdown",
   "id": "f335f394",
   "metadata": {},
   "source": [
    "## Step 1 : Convolution"
   ]
  },
  {
   "cell_type": "code",
   "execution_count": 9,
   "id": "3528dcae",
   "metadata": {},
   "outputs": [],
   "source": [
    "cnn.add(tf.keras.layers.Conv2D(filters = 32, kernel_size = 3, activation = 'relu', input_shape = [64,64,3])) \n",
    "# Input shape 3 is for color images and 1 for BW image, kernel_size depicts teh feature image matrix size"
   ]
  },
  {
   "cell_type": "markdown",
   "id": "e82cd015",
   "metadata": {},
   "source": [
    "## Step 2 : Pooling"
   ]
  },
  {
   "cell_type": "code",
   "execution_count": 10,
   "id": "4b0d0fc7",
   "metadata": {},
   "outputs": [],
   "source": [
    "# This is add the Pooled Feature Map\n",
    "cnn.add(tf.keras.layers.MaxPool2D(pool_size = 2, strides = 2))"
   ]
  },
  {
   "cell_type": "markdown",
   "id": "4af558f0",
   "metadata": {},
   "source": [
    "## Adding a second Convolutional Layer"
   ]
  },
  {
   "cell_type": "code",
   "execution_count": 11,
   "id": "5b0cccf8",
   "metadata": {},
   "outputs": [],
   "source": [
    "cnn.add(tf.keras.layers.Conv2D(filters = 32, kernel_size = 3, activation = 'relu')) \n",
    "cnn.add(tf.keras.layers.MaxPool2D(pool_size = 2, strides = 2))"
   ]
  },
  {
   "cell_type": "markdown",
   "id": "67ab3f6c",
   "metadata": {},
   "source": [
    "## Step 3 : Flattening"
   ]
  },
  {
   "cell_type": "code",
   "execution_count": 12,
   "id": "bb124afb",
   "metadata": {},
   "outputs": [],
   "source": [
    "cnn.add(tf.keras.layers.Flatten())"
   ]
  },
  {
   "cell_type": "markdown",
   "id": "95f499d1",
   "metadata": {},
   "source": [
    "## Step 4 : Full Connection"
   ]
  },
  {
   "cell_type": "code",
   "execution_count": 13,
   "id": "5b0d9b09",
   "metadata": {},
   "outputs": [],
   "source": [
    "cnn.add(tf.keras.layers.Dense(units = 128, activation = 'relu'))"
   ]
  },
  {
   "cell_type": "markdown",
   "id": "685ea832",
   "metadata": {},
   "source": [
    "## Step 5 : Output Layer"
   ]
  },
  {
   "cell_type": "code",
   "execution_count": 14,
   "id": "7ebef5fb",
   "metadata": {},
   "outputs": [],
   "source": [
    "cnn.add(tf.keras.layers.Dense(units = 1, activation = 'sigmoid'))"
   ]
  },
  {
   "cell_type": "markdown",
   "id": "5c3bfd0a",
   "metadata": {},
   "source": [
    "# Part 3 : Training the CNN"
   ]
  },
  {
   "cell_type": "markdown",
   "id": "c6f5b629",
   "metadata": {},
   "source": [
    "## Compiling the CNN"
   ]
  },
  {
   "cell_type": "code",
   "execution_count": 15,
   "id": "e8fdab82",
   "metadata": {},
   "outputs": [],
   "source": [
    "cnn.compile(optimizer  = 'adam' , loss = 'binary_crossentropy', metrics = ['accuracy'])"
   ]
  },
  {
   "cell_type": "markdown",
   "id": "0528e4b1",
   "metadata": {},
   "source": [
    "## Trainning the CNN on Training Set and evaluating it on the Test Set"
   ]
  },
  {
   "cell_type": "code",
   "execution_count": 16,
   "id": "2f217985",
   "metadata": {},
   "outputs": [
    {
     "name": "stdout",
     "output_type": "stream",
     "text": [
      "Epoch 1/25\n",
      "250/250 [==============================] - 83s 327ms/step - loss: 0.6642 - accuracy: 0.5936 - val_loss: 0.6184 - val_accuracy: 0.6640\n",
      "Epoch 2/25\n",
      "250/250 [==============================] - 48s 192ms/step - loss: 0.5861 - accuracy: 0.6898 - val_loss: 0.6201 - val_accuracy: 0.6490\n",
      "Epoch 3/25\n",
      "250/250 [==============================] - 48s 193ms/step - loss: 0.5454 - accuracy: 0.7258 - val_loss: 0.5331 - val_accuracy: 0.7405\n",
      "Epoch 4/25\n",
      "250/250 [==============================] - 48s 193ms/step - loss: 0.5121 - accuracy: 0.7474 - val_loss: 0.5146 - val_accuracy: 0.7460\n",
      "Epoch 5/25\n",
      "250/250 [==============================] - 49s 194ms/step - loss: 0.4939 - accuracy: 0.7580 - val_loss: 0.4801 - val_accuracy: 0.7695\n",
      "Epoch 6/25\n",
      "250/250 [==============================] - 49s 197ms/step - loss: 0.4752 - accuracy: 0.7705 - val_loss: 0.4783 - val_accuracy: 0.7650\n",
      "Epoch 7/25\n",
      "250/250 [==============================] - 50s 201ms/step - loss: 0.4677 - accuracy: 0.7731 - val_loss: 0.4741 - val_accuracy: 0.7760\n",
      "Epoch 8/25\n",
      "250/250 [==============================] - 51s 203ms/step - loss: 0.4480 - accuracy: 0.7865 - val_loss: 0.4764 - val_accuracy: 0.7720\n",
      "Epoch 9/25\n",
      "250/250 [==============================] - 50s 201ms/step - loss: 0.4319 - accuracy: 0.7970 - val_loss: 0.4801 - val_accuracy: 0.7725\n",
      "Epoch 10/25\n",
      "250/250 [==============================] - 50s 201ms/step - loss: 0.4187 - accuracy: 0.8111 - val_loss: 0.4716 - val_accuracy: 0.7815\n",
      "Epoch 11/25\n",
      "250/250 [==============================] - 50s 200ms/step - loss: 0.4099 - accuracy: 0.8101 - val_loss: 0.4715 - val_accuracy: 0.7805\n",
      "Epoch 12/25\n",
      "250/250 [==============================] - 51s 202ms/step - loss: 0.3972 - accuracy: 0.8150 - val_loss: 0.4573 - val_accuracy: 0.7925\n",
      "Epoch 13/25\n",
      "250/250 [==============================] - 50s 201ms/step - loss: 0.3823 - accuracy: 0.8257 - val_loss: 0.4698 - val_accuracy: 0.7890\n",
      "Epoch 14/25\n",
      "250/250 [==============================] - 50s 201ms/step - loss: 0.3667 - accuracy: 0.8370 - val_loss: 0.4669 - val_accuracy: 0.7965\n",
      "Epoch 15/25\n",
      "250/250 [==============================] - 50s 202ms/step - loss: 0.3594 - accuracy: 0.8422 - val_loss: 0.4536 - val_accuracy: 0.8015\n",
      "Epoch 16/25\n",
      "250/250 [==============================] - 50s 201ms/step - loss: 0.3518 - accuracy: 0.8439 - val_loss: 0.4593 - val_accuracy: 0.8040\n",
      "Epoch 17/25\n",
      "250/250 [==============================] - 50s 201ms/step - loss: 0.3312 - accuracy: 0.8530 - val_loss: 0.4787 - val_accuracy: 0.7975\n",
      "Epoch 18/25\n",
      "250/250 [==============================] - 50s 199ms/step - loss: 0.3295 - accuracy: 0.8559 - val_loss: 0.4588 - val_accuracy: 0.8025\n",
      "Epoch 19/25\n",
      "250/250 [==============================] - 50s 199ms/step - loss: 0.3114 - accuracy: 0.8658 - val_loss: 0.4967 - val_accuracy: 0.7950\n",
      "Epoch 20/25\n",
      "250/250 [==============================] - 50s 201ms/step - loss: 0.2999 - accuracy: 0.8708 - val_loss: 0.4681 - val_accuracy: 0.8065\n",
      "Epoch 21/25\n",
      "250/250 [==============================] - 51s 202ms/step - loss: 0.2837 - accuracy: 0.8761 - val_loss: 0.4770 - val_accuracy: 0.8120\n",
      "Epoch 22/25\n",
      "250/250 [==============================] - 51s 203ms/step - loss: 0.2751 - accuracy: 0.8824 - val_loss: 0.4893 - val_accuracy: 0.8015\n",
      "Epoch 23/25\n",
      "250/250 [==============================] - 51s 204ms/step - loss: 0.2665 - accuracy: 0.8865 - val_loss: 0.5084 - val_accuracy: 0.7950\n",
      "Epoch 24/25\n",
      "250/250 [==============================] - 51s 204ms/step - loss: 0.2571 - accuracy: 0.8911 - val_loss: 0.5032 - val_accuracy: 0.8015\n",
      "Epoch 25/25\n",
      "250/250 [==============================] - 51s 204ms/step - loss: 0.2429 - accuracy: 0.9004 - val_loss: 0.5180 - val_accuracy: 0.8040\n"
     ]
    },
    {
     "data": {
      "text/plain": [
       "<keras.callbacks.History at 0x1d59147fc70>"
      ]
     },
     "execution_count": 16,
     "metadata": {},
     "output_type": "execute_result"
    }
   ],
   "source": [
    "cnn.fit(x = train_generator, validation_data = validation_generator, epochs = 25)"
   ]
  },
  {
   "cell_type": "markdown",
   "id": "993ea4bd",
   "metadata": {},
   "source": [
    "# Part 4 : Make a Single Prediction"
   ]
  },
  {
   "cell_type": "code",
   "execution_count": 27,
   "id": "20d2da41",
   "metadata": {},
   "outputs": [
    {
     "name": "stdout",
     "output_type": "stream",
     "text": [
      "1/1 [==============================] - 0s 27ms/step\n"
     ]
    }
   ],
   "source": [
    "import numpy as np\n",
    "from keras.preprocessing import image\n",
    "import keras.utils as image\n",
    "test_image = image.load_img(r'C:\\Users\\ASUS\\Documents\\AI ML\\Convolutional Neural Networks (CNN)\\dataset\\single_prediction/pup.jpg', target_size = (64,64))\n",
    "test_image = image.img_to_array(test_image)\n",
    "test_image = np.expand_dims(test_image, axis = 0)\n",
    "result = cnn.predict(test_image/255.0)\n",
    "train_generator.class_indices\n",
    "if result[0][0] > 0.5 :\n",
    "    prediction = 'Dog'\n",
    "else:\n",
    "    prediction = 'Cat'                                                                                               "
   ]
  },
  {
   "cell_type": "code",
   "execution_count": 28,
   "id": "b51364e4",
   "metadata": {},
   "outputs": [
    {
     "name": "stdout",
     "output_type": "stream",
     "text": [
      "Dog\n"
     ]
    }
   ],
   "source": [
    "print(prediction)"
   ]
  },
  {
   "cell_type": "code",
   "execution_count": null,
   "id": "324e82fd",
   "metadata": {},
   "outputs": [],
   "source": []
  }
 ],
 "metadata": {
  "kernelspec": {
   "display_name": "Python 3 (ipykernel)",
   "language": "python",
   "name": "python3"
  },
  "language_info": {
   "codemirror_mode": {
    "name": "ipython",
    "version": 3
   },
   "file_extension": ".py",
   "mimetype": "text/x-python",
   "name": "python",
   "nbconvert_exporter": "python",
   "pygments_lexer": "ipython3",
   "version": "3.10.9"
  }
 },
 "nbformat": 4,
 "nbformat_minor": 5
}
